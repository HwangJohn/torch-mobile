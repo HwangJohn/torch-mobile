{
 "cells": [
  {
   "cell_type": "markdown",
   "id": "sufficient-wagner",
   "metadata": {},
   "source": [
    "Script and Optimize for Mobile Recipe\n",
    "=====================================\n",
    "\n",
    "This recipe demonstrates how to convert a PyTorch model to TorchScript\n",
    "which can run in a high-performance C++ environment such as iOS and\n",
    "Android, and how to optimize the converted TorchScript model for mobile\n",
    "deployment.\n",
    "\n",
    "Introduction\n",
    "------------\n",
    "\n",
    "After a PyTorch model is trained and optionally but preferably quantized\n",
    "(see `Quantization Recipe <quantization.html>`\\_ for more details), one\n",
    "essential step before the model can be used in iOS and Android apps is\n",
    "to convert the Python-dependent model to TorchScript, which can then\n",
    "further be optimized for mobile apps. Conversion to TorchScript can be\n",
    "as simple as a single call, or as complicated as changing the original\n",
    "model in many different places.\n",
    "\n",
    "Pre-requisites\n",
    "--------------\n",
    "\n",
    "PyTorch 1.6.0 or 1.7.0\n",
    "\n",
    "Conversion to TorchScript\n",
    "-------------------------\n",
    "\n",
    "There are two basic ways to convert a PyTorch model to TorchScript,\n",
    "using `trace` and `script`. Mixing `trace` and `script` may also be\n",
    "needed in some cases - see\n",
    "`here <https://pytorch.org/tutorials/beginner/Intro_to_TorchScript_tutorial.html#mixing-scripting-and-tracing>`\\_\n",
    "for more information.\n",
    "\n",
    "### Use the `trace` Method ^^^^^^\\^^^^^^\\^^\\^^^\\^\n",
    "\n",
    "To use the `trace` method on a model, an example or dummy input for the\n",
    "model needs to be specified, the actual input size needs to be the same\n",
    "as the example input size, and the model definition cannot have control\n",
    "flow such as `if` or `for`. The reason for these constraints is that\n",
    "running `trace` on a model with an example input simply calls the\n",
    "model's `forward` method with the input and all operations executed in\n",
    "the model layers are recorded, creating the trace of the model."
   ]
  },
  {
   "cell_type": "code",
   "execution_count": null,
   "id": "advisory-history",
   "metadata": {},
   "outputs": [],
   "source": [
    "import torch\n",
    "\n",
    "dummy_input = torch.rand(1, 3, 224, 224)\n",
    "torchscript_model = torch.jit.trace(model_quantized, dummy_input)"
   ]
  },
  {
   "cell_type": "markdown",
   "id": "toxic-cooperative",
   "metadata": {},
   "source": [
    "### Use the `script` Method \n",
    "\n",
    "For the example above, calling `script` below makes no difference:\n"
   ]
  },
  {
   "cell_type": "code",
   "execution_count": null,
   "id": "eleven-formula",
   "metadata": {},
   "outputs": [],
   "source": [
    "torchscript_model = torch.jit.script(model_quantized)"
   ]
  },
  {
   "cell_type": "markdown",
   "id": "saved-sculpture",
   "metadata": {},
   "source": [
    "But if a model has some flow control, then `trace` won't correctly\n",
    "record all the possible traces. Take some code snippet of an example\n",
    "model definition from\n",
    "`here <https://pytorch.org/tutorials/beginner/Intro_to_TorchScript_tutorial.html>`\\_\n",
    "for example:"
   ]
  },
  {
   "cell_type": "code",
   "execution_count": null,
   "id": "right-river",
   "metadata": {},
   "outputs": [],
   "source": [
    "::\n",
    "\n",
    "    import torch\n",
    "\n",
    "    class MyDecisionGate(torch.nn.Module):\n",
    "        def forward(self, x):\n",
    "            if x.sum() > 0:\n",
    "                return x\n",
    "            else:\n",
    "                return -x\n",
    "\n",
    "    x = torch.rand(3, 4)\n",
    "    traced_cell = torch.jit.trace(MyDecisionGate(), x)\n",
    "    print(traced_cell.code)"
   ]
  },
  {
   "cell_type": "markdown",
   "id": "occupied-jersey",
   "metadata": {},
   "source": [
    "The code above will output:"
   ]
  },
  {
   "cell_type": "markdown",
   "id": "transparent-mandate",
   "metadata": {},
   "source": [
    "::\n",
    "\n",
    "    TracerWarning: Converting a tensor to a Python boolean might cause the trace to be incorrect. We can''t record the data flow of Python values, so this value will be treated as a constant in the future. This means that the trace might not generalize to other inputs!\n",
    "\n",
    "    if x.sum() > 0:\n",
    "def forward(self, \n",
    "        x: Tensor) -> Tensor:\n",
    "    return x"
   ]
  },
  {
   "cell_type": "markdown",
   "id": "ancient-matter",
   "metadata": {},
   "source": [
    "Note that \"the trace might not generalize to other inputs\" warning above\n",
    "means that if the model has any kind of data-dependent control flow,\n",
    "`trace` is not the right answer. But if we replace the last two lines of\n",
    "the Python code snippet above (before the code output) with:\n"
   ]
  },
  {
   "cell_type": "code",
   "execution_count": null,
   "id": "simple-greeting",
   "metadata": {},
   "outputs": [],
   "source": [
    "::\n",
    "\n",
    "    scripted_cell = torch.jit.script(MyDecisionGate())\n",
    "    print(scripted_cell.code)"
   ]
  },
  {
   "cell_type": "markdown",
   "id": "cloudy-headquarters",
   "metadata": {},
   "source": [
    "The scripted model as shown by the `print` result below will be covering\n",
    "all possible inputs, thus generalizing to other inputs:\n"
   ]
  },
  {
   "cell_type": "code",
   "execution_count": null,
   "id": "familiar-afghanistan",
   "metadata": {},
   "outputs": [],
   "source": [
    "::\n",
    "\n",
    "    def forward(self,\n",
    "        x: Tensor) -> Tensor:\n",
    "      _0 = bool(torch.gt(torch.sum(x, dtype=None), 0))\n",
    "      if _0:\n",
    "        _1 = x\n",
    "      else:\n",
    "        _1 = torch.neg(x)\n",
    "      return _1"
   ]
  },
  {
   "cell_type": "markdown",
   "id": "logical-system",
   "metadata": {},
   "source": [
    "This is another example of using `trace` and `script` - it converts the\n",
    "model trained in the PyTorch tutorial\n",
    "`NLP FROM SCRATCH: TRANSLATION WITH A SEQUENCE TO SEQUENCE NETWORK AND ATTENTION <https://pytorch.org/tutorials/intermediate/seq2seq_translation_tutorial.html>`\\_:"
   ]
  },
  {
   "cell_type": "code",
   "execution_count": null,
   "id": "resident-casino",
   "metadata": {},
   "outputs": [],
   "source": [
    "::\n",
    "\n",
    "    encoder = EncoderRNN(input_lang.n_words, hidden_size)\n",
    "    decoder = AttnDecoderRNN(hidden_size, output_lang.n_words)\n",
    "\n",
    "    # method 1: using trace with example inputs\n",
    "\n",
    "    encoder_input=torch.tensor([1])\n",
    "    encoder_hidden=torch.zeros(1, 1, hidden_size)\n",
    "\n",
    "    decoder_input1=torch.tensor([[0]])\n",
    "    decoder_input2=torch.zeros(1, 1, hidden_size)\n",
    "    decoder_input3=torch.zeros(MAX_LENGTH, hidden_size)\n",
    "\n",
    "    traced_encoder = torch.jit.trace(encoder, (encoder_input, encoder_hidden))\n",
    "    traced_decoder = torch.jit.trace(decoder, (decoder_input1, decoder_input2, decoder_input3))\n",
    "\n",
    "    # method 2: using script\n",
    "\n",
    "    scripted_encoder = torch.jit.script(encoder)\n",
    "    scripted_decoder = torch.jit.script(decoder)"
   ]
  },
  {
   "cell_type": "markdown",
   "id": "communist-texas",
   "metadata": {},
   "source": [
    "So is it true that one can simply always use the `script` call and the\n",
    "model is converted to TorchScript? The answer is no, because TorchScript\n",
    "is actually a subset of Python and to make `script` work, the PyTorch\n",
    "model definition must only use the language features of that TorchScript\n",
    "subset of Python.\n",
    "`TorchScript Language Reference <https://pytorch.org/docs/master/jit_language_reference.html#language-reference>`\\_\n",
    "covers all the details of what is supported in TorchScript. Below we\n",
    "will describe some of the common errors when using the `script` method.\n",
    "\n",
    "Fix Common Errors When Using the `script` Method\n",
    "------------------------------------------------\n",
    "\n",
    "If you apply the `script` method to a non-trivial model, chances are you\n",
    "may encounter several types of errors. Check out\n",
    "`this tutorial <https://pytorch.org/tutorials/beginner/deploy_seq2seq_hybrid_frontend_tutorial.html>`\\_\n",
    "for a complete example of converting a chatbot model to TorchScript. But\n",
    "follow the steps below to fix common errors when you run the `script`\n",
    "method:\n",
    "\n",
    "### 1.  RuntimeError attribute lookup is not defined on python value of type\n",
    "    ^^^^^^^^^^^^^^^\\^^^^^^^^^^^^^^^^^^^^^^^^^^^^^^\\^^^^^^^^^^^^^^^^^^^^^^\\^^^^^^^^\n",
    "\n",
    "For this error, pass the value of the model as a parameter in the\n",
    "constructor. This is because when calling `script` on a model that\n",
    "accepts another model as a parameter, the model passed is actually of\n",
    "type `TracedModule` or `ScriptModule`, not of type `Module`, making the\n",
    "the model attribute not defined when scripting.\n",
    "\n",
    "For example, the `LuongAttnDecoderRNN` module in the tutorial above has\n",
    "an attribute `n_layers`, and the `GreedySearchDecoder` module refers to\n",
    "the `n_layers` attribute of a `decoder` instance of the\n",
    "`LuongAttnDecoderRNN` module, so in order to make `script` work, the\n",
    "`GreedySearchDecoder` module's constructor needs to be changed from:"
   ]
  },
  {
   "cell_type": "code",
   "execution_count": null,
   "id": "shaped-inclusion",
   "metadata": {},
   "outputs": [],
   "source": [
    "::\n",
    "\n",
    "    def __init__(self, encoder, decoder):"
   ]
  },
  {
   "cell_type": "markdown",
   "id": "first-whole",
   "metadata": {},
   "source": [
    "to:"
   ]
  },
  {
   "cell_type": "code",
   "execution_count": null,
   "id": "narrow-grenada",
   "metadata": {},
   "outputs": [],
   "source": [
    "::\n",
    "\n",
    "    def __init__(self, encoder, decoder, decoder_n_layers):\n",
    "      ...\n",
    "      self._decoder_n_layers = decoder_n_layers"
   ]
  },
  {
   "cell_type": "markdown",
   "id": "endangered-dakota",
   "metadata": {},
   "source": [
    "and the `GreedySearchDecoder`'s `forward` method needs to refer\n",
    "`self._decoder_n_layers` instead of `decoder.n_layers`.\n",
    "\n",
    "### 2.  RuntimeError `python value of type '...' cannot be used as a value.\n",
    "\n",
    "The complete error message for this one continues with\n",
    "`Perhaps it is a closed over global variable? If so, please consider passing it in as an argument or use a local variable instead.`,\n",
    "store global variables' values as attributes in the model constructor\n",
    "(there's no need to add them to a special list called `__constants__`).\n",
    "The reason is that global values can be used conveniently in normal\n",
    "model training and inference, but the global values are not accessible\n",
    "during the scripting.\n",
    "\n",
    "For example, `device` and `SOS_token` are global variables, and to make\n",
    "`script` work, they need to be added to the `GreedySearchDecoder`'s\n",
    "constructor:"
   ]
  },
  {
   "cell_type": "code",
   "execution_count": null,
   "id": "grateful-kuwait",
   "metadata": {},
   "outputs": [],
   "source": [
    "::\n",
    "\n",
    "    self._device = device\n",
    "    self._SOS_token = SOS_token\n",
    "\n"
   ]
  },
  {
   "cell_type": "markdown",
   "id": "medical-printing",
   "metadata": {},
   "source": [
    "and referred to as `self._device` and `self._SOS_token` instead of\n",
    "`device` and `SOS_token` in the `GreedySearchDecoder`'s `forward`\n",
    "method.\n",
    "\n",
    "### 3.  RuntimeError all inputs of range must be '...', found Tensor (inferred) in argument\n",
    "\n",
    "The error message continues with:\n",
    "`add type definitions for each of the module's forward method arguments. Because all parameters to a TorchScript function are of the`torch.Tensor`type by default, you need to specifically declare the type for each parameter that is not of type 'Tensor'. For a complete list of TorchScript-supported types, see`here\n",
    "<https://pytorch.org/docs/master/jit_language_reference.html#supported-type>\\`\\_.\n",
    "\n",
    "For example, the `GreedySearchDecoder`'s `forward` method signature\n",
    "needs to be changed from:\n",
    "\n"
   ]
  },
  {
   "cell_type": "code",
   "execution_count": null,
   "id": "moral-square",
   "metadata": {},
   "outputs": [],
   "source": [
    "::\n",
    "\n",
    "    def forward(self, input_seq, input_length, max_length):"
   ]
  },
  {
   "cell_type": "markdown",
   "id": "sunset-warrior",
   "metadata": {},
   "source": [
    "to:"
   ]
  },
  {
   "cell_type": "code",
   "execution_count": null,
   "id": "manual-residence",
   "metadata": {},
   "outputs": [],
   "source": [
    "::\n",
    "\n",
    "    def forward(self, input_seq, input_length, max_length : int):"
   ]
  },
  {
   "cell_type": "markdown",
   "id": "refined-sweet",
   "metadata": {},
   "source": [
    "After using the `trace` or `script` method above, and fixing possible\n",
    "errors, you should have a TorchScript model ready to be optimized for\n",
    "mobile.\n",
    "\n",
    "Optimize a TorchScript Model\n",
    "----------------------------\n",
    "\n",
    "Simply run the following code snippet to optimize a TorchScript model\n",
    "generated with the `trace` and/or `script` method:"
   ]
  },
  {
   "cell_type": "code",
   "execution_count": null,
   "id": "informational-format",
   "metadata": {},
   "outputs": [],
   "source": [
    "::\n",
    "\n",
    "    from torch.utils.mobile_optimizer import optimize_for_mobile\n",
    "    optimized_torchscript_model = optimize_for_mobile(torchscript_model)"
   ]
  },
  {
   "cell_type": "markdown",
   "id": "ethical-disclaimer",
   "metadata": {},
   "source": [
    "The optimized model can then be saved and deployed in mobile apps:"
   ]
  },
  {
   "cell_type": "code",
   "execution_count": null,
   "id": "twenty-priest",
   "metadata": {},
   "outputs": [],
   "source": [
    "::\n",
    "\n",
    "    optimized_torchscript_model.save(\"optimized_torchscript_model.pth\")"
   ]
  },
  {
   "cell_type": "markdown",
   "id": "raised-level",
   "metadata": {},
   "source": [
    "By default, `optimize_for_mobile` will perform the following types of\n",
    "optimizations:\n",
    "\n",
    "-   Conv2D and BatchNorm fusion which folds Conv2d-BatchNorm2d into\n",
    "    Conv2d;\n",
    "\n",
    "-   Insert and fold prepacked ops which rewrites the model graph to\n",
    "    replace 2D convolutions and linear ops with their prepacked\n",
    "    counterparts.\n",
    "\n",
    "-   ReLU and hardtanh fusion which rewrites graph by finding\n",
    "    ReLU/hardtanh ops and fuses them together.\n",
    "\n",
    "-   Dropout removal which removes dropout nodes from this module when\n",
    "    training is false.\n",
    "\n",
    "Learn More\n",
    "----------\n",
    "\n",
    "1.  The official\n",
    "    `TorchScript Language Reference <https://pytorch.org/docs/stable/jit_language_reference.html>`\\_.\n",
    "2.  The `torch.utils.mobile_optimizer`\n",
    "    `API documentation <https://pytorch.org/docs/stable/mobile_optimizer.html>`\\_.\n",
    "\n"
   ]
  },
  {
   "cell_type": "code",
   "execution_count": null,
   "id": "headed-collins",
   "metadata": {},
   "outputs": [],
   "source": []
  }
 ],
 "metadata": {
  "kernelspec": {
   "display_name": "torch",
   "language": "python",
   "name": "torch"
  },
  "language_info": {
   "codemirror_mode": {
    "name": "ipython",
    "version": 3
   },
   "file_extension": ".py",
   "mimetype": "text/x-python",
   "name": "python",
   "nbconvert_exporter": "python",
   "pygments_lexer": "ipython3",
   "version": "3.7.9"
  }
 },
 "nbformat": 4,
 "nbformat_minor": 5
}
