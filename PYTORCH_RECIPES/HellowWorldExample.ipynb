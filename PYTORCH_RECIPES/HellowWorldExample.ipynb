{
 "cells": [
  {
   "cell_type": "code",
   "execution_count": 34,
   "metadata": {},
   "outputs": [],
   "source": [
    "# https://pytorch.org/mobile/android/#quickstart-with-a-helloworld-example\n",
    "import os\n",
    "import torch\n",
    "import torchvision\n",
    "\n",
    "model = torchvision.models.resnet18(pretrained=True)\n",
    "model.eval()\n",
    "example = torch.rand(1, 3, 224, 224)\n",
    "traced_script_module = torch.jit.trace(model, example)\n",
    "# traced_script_module.save(\"app/src/main/assets/model.pt\") # error\n",
    "torch.jit.save(traced_script_module, \"app/src/main/assets/model.pt\")"
   ]
  },
  {
   "cell_type": "code",
   "execution_count": null,
   "metadata": {},
   "outputs": [],
   "source": [
    "# https://pytorch.org/tutorials/recipes/model_preparation_android.html?highlight=mobile\n",
    "\n"
   ]
  },
  {
   "cell_type": "code",
   "execution_count": 28,
   "metadata": {},
   "outputs": [
    {
     "data": {
      "text/plain": [
       "['ThroughputBenchmark',\n",
       " '__builtins__',\n",
       " '__cached__',\n",
       " '__doc__',\n",
       " '__file__',\n",
       " '__loader__',\n",
       " '__name__',\n",
       " '__package__',\n",
       " '__path__',\n",
       " '__spec__',\n",
       " '_osp',\n",
       " 'backcompat',\n",
       " 'checkpoint',\n",
       " 'cmake_prefix_path',\n",
       " 'data',\n",
       " 'hooks',\n",
       " 'model_zoo',\n",
       " 'set_module',\n",
       " 'throughput_benchmark']"
      ]
     },
     "execution_count": 28,
     "metadata": {},
     "output_type": "execute_result"
    }
   ],
   "source": [
    "dir(torch.utils)"
   ]
  },
  {
   "cell_type": "code",
   "execution_count": 11,
   "metadata": {},
   "outputs": [
    {
     "name": "stdout",
     "output_type": "stream",
     "text": [
      "total 92288\r\n",
      "drwxr-xr-x  3 john  staff    96B  1 17 20:25 \u001b[34m.\u001b[m\u001b[m\r\n",
      "drwxr-xr-x  3 john  staff    96B  1 17 20:25 \u001b[34m..\u001b[m\u001b[m\r\n",
      "-rw-r--r--  1 john  staff    45M  1 17 20:27 model.pt\r\n"
     ]
    }
   ],
   "source": [
    "!ls -alh app/src/main/assets/"
   ]
  },
  {
   "cell_type": "code",
   "execution_count": 26,
   "metadata": {},
   "outputs": [
    {
     "name": "stdout",
     "output_type": "stream",
     "text": [
      "fatal: destination path 'android-demo-app' already exists and is not an empty directory.\n",
      "\n",
      "\n",
      "\u001b[2A\u001b[1m<\u001b[0;1m-------------> 0% CONFIGURING [0s]\u001b[m\u001b[35D\u001b[1B\u001b[1m> root project > Resolve dependencies of :classpath\u001b[m\u001b[51D\u001b[1B\u001b[2A\u001b[0K\n",
      "\u001b[31mFAILURE: \u001b[39m\u001b[31mBuild failed with an exception.\u001b[39m\u001b[0K\n",
      "\n",
      "* What went wrong:\n",
      "Task 'installDebug' not found in root project 'HelloWorldApp'.\n",
      "\n",
      "* Try:\n",
      "Run \u001b[1mgradlew tasks\u001b[m to get a list of available tasks. Run with \u001b[1m--stacktrace\u001b[m option to get the stack trace. Run with \u001b[1m--info\u001b[m or \u001b[1m--debug\u001b[m option to get more log output. Run with \u001b[1m--scan\u001b[m to get full insights.\n",
      "\n",
      "* Get more help at \u001b[1mhttps://help.gradle.org\u001b[m\n",
      "\n",
      "\u001b[31;1mBUILD FAILED\u001b[0;39m in 1s\n",
      "\u001b[0K\n",
      "\u001b[0K\n",
      "\u001b[2A\u001b[1m<\u001b[0;1m-------------> 0% WAITING\u001b[m\u001b[26D\u001b[1B> IDLE\u001b[6D\u001b[1B\u001b[2A\u001b[2K\u001b[1B\u001b[2K\u001b[1A\u001b[m"
     ]
    }
   ],
   "source": [
    "!git clone https://github.com/pytorch/android-demo-app.git\n",
    "!cd android-demo-app/HelloWorldApp && ./gradlew installDebug"
   ]
  },
  {
   "cell_type": "code",
   "execution_count": 23,
   "metadata": {},
   "outputs": [
    {
     "name": "stdout",
     "output_type": "stream",
     "text": [
      "\u001b[34mapp\u001b[m\u001b[m               \u001b[34mgradle\u001b[m\u001b[m            \u001b[31mgradlew\u001b[m\u001b[m           settings.gradle\r\n",
      "build.gradle      gradle.properties gradlew.bat       trace_model.py\r\n"
     ]
    }
   ],
   "source": [
    "!cd android-demo-app/HelloWorldApp && ls"
   ]
  },
  {
   "cell_type": "code",
   "execution_count": 24,
   "metadata": {},
   "outputs": [
    {
     "name": "stdout",
     "output_type": "stream",
     "text": [
      "HellowWorldExample.ipynb \u001b[34mandroid-demo-app\u001b[m\u001b[m         make_network.py\r\n",
      "\u001b[34m__pycache__\u001b[m\u001b[m              \u001b[34mapp\u001b[m\u001b[m\r\n"
     ]
    }
   ],
   "source": [
    "!ls"
   ]
  },
  {
   "cell_type": "code",
   "execution_count": null,
   "metadata": {},
   "outputs": [],
   "source": []
  }
 ],
 "metadata": {
  "kernelspec": {
   "display_name": "torch",
   "language": "python",
   "name": "torch"
  },
  "language_info": {
   "codemirror_mode": {
    "name": "ipython",
    "version": 3
   },
   "file_extension": ".py",
   "mimetype": "text/x-python",
   "name": "python",
   "nbconvert_exporter": "python",
   "pygments_lexer": "ipython3",
   "version": "3.7.9"
  }
 },
 "nbformat": 4,
 "nbformat_minor": 2
}
